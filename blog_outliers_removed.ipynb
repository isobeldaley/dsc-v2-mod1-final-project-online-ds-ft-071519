{
 "cells": [
  {
   "cell_type": "code",
   "execution_count": 1,
   "metadata": {},
   "outputs": [],
   "source": [
    "# Pandas is used for data manipulation and analysis\n",
    "# Numpy is used to create multidimensional arrays, and to perform mathematical function\n",
    "\n",
    "import pandas as pd\n",
    "import numpy as np\n",
    "\n",
    "# Matplotlib is used to create visualisations.  \n",
    "# Seaborn sits on top of Matplotlib, allowing the creation of more visually appealing visualisations\n",
    "\n",
    "import matplotlib.pyplot as plt\n",
    "import seaborn as sns"
   ]
  },
  {
   "cell_type": "code",
   "execution_count": 2,
   "metadata": {},
   "outputs": [],
   "source": [
    "kc_data = pd.read_csv(\"kc_house_data.csv\")"
   ]
  },
  {
   "cell_type": "code",
   "execution_count": 3,
   "metadata": {},
   "outputs": [
    {
     "name": "stdout",
     "output_type": "stream",
     "text": [
      "<class 'pandas.core.frame.DataFrame'>\n",
      "RangeIndex: 21597 entries, 0 to 21596\n",
      "Data columns (total 17 columns):\n",
      "price            21597 non-null float64\n",
      "bedrooms         21597 non-null int64\n",
      "bathrooms        21597 non-null float64\n",
      "sqft_living      21597 non-null int64\n",
      "sqft_lot         21597 non-null int64\n",
      "floors           21597 non-null float64\n",
      "waterfront       21597 non-null float64\n",
      "view             21597 non-null float64\n",
      "condition        21597 non-null int64\n",
      "grade            21597 non-null int64\n",
      "sqft_above       21597 non-null int64\n",
      "sqft_basement    21597 non-null float64\n",
      "yr_built         21597 non-null int64\n",
      "lat              21597 non-null float64\n",
      "long             21597 non-null float64\n",
      "sqft_living15    21597 non-null int64\n",
      "sqft_lot15       21597 non-null int64\n",
      "dtypes: float64(8), int64(9)\n",
      "memory usage: 2.8 MB\n"
     ]
    }
   ],
   "source": [
    "kc_data.drop('yr_renovated', axis=1, inplace=True)\n",
    "kc_data['waterfront'].fillna(kc_data['waterfront'].median(), inplace=True)\n",
    "kc_data['view'].fillna(kc_data['view'].median(), inplace=True)\n",
    "kc_data['date'] = pd.to_datetime(kc_data['date'])\n",
    "kc_data['sqft_basement'].replace('?', kc_data['sqft_living']-kc_data['sqft_above'], inplace=True)\n",
    "kc_data['sqft_basement'] = kc_data['sqft_basement'].astype('float')\n",
    "kc_data.drop(['zipcode', 'id', 'date'], axis=1, inplace=True)\n",
    "kc_data.info()"
   ]
  },
  {
   "cell_type": "markdown",
   "metadata": {},
   "source": [
    "### Remove Outliers"
   ]
  },
  {
   "cell_type": "code",
   "execution_count": 4,
   "metadata": {},
   "outputs": [],
   "source": [
    "cols = ['bathrooms', 'bedrooms', 'condition', 'price', 'sqft_living', 'sqft_basement', 'sqft_lot', 'sqft_lot15', 'lat', 'long']"
   ]
  },
  {
   "cell_type": "code",
   "execution_count": 5,
   "metadata": {},
   "outputs": [],
   "source": [
    "for col in cols:\n",
    "        Q1 = np.quantile(kc_data[col], 0.25)\n",
    "        Q3 = np.quantile(kc_data[col], 0.75)\n",
    "        IQR = Q3 - Q1\n",
    "        drop_col = kc_data.loc[(kc_data[col] < Q1 - 1.5*IQR) | (kc_data[col] > Q3 + 1.5*IQR)].index\n",
    "        kc_data.drop(drop_col, inplace=True) "
   ]
  },
  {
   "cell_type": "code",
   "execution_count": 6,
   "metadata": {},
   "outputs": [
    {
     "name": "stdout",
     "output_type": "stream",
     "text": [
      "<class 'pandas.core.frame.DataFrame'>\n",
      "Int64Index: 16408 entries, 0 to 21596\n",
      "Data columns (total 17 columns):\n",
      "price            16408 non-null float64\n",
      "bedrooms         16408 non-null int64\n",
      "bathrooms        16408 non-null float64\n",
      "sqft_living      16408 non-null int64\n",
      "sqft_lot         16408 non-null int64\n",
      "floors           16408 non-null float64\n",
      "waterfront       16408 non-null float64\n",
      "view             16408 non-null float64\n",
      "condition        16408 non-null int64\n",
      "grade            16408 non-null int64\n",
      "sqft_above       16408 non-null int64\n",
      "sqft_basement    16408 non-null float64\n",
      "yr_built         16408 non-null int64\n",
      "lat              16408 non-null float64\n",
      "long             16408 non-null float64\n",
      "sqft_living15    16408 non-null int64\n",
      "sqft_lot15       16408 non-null int64\n",
      "dtypes: float64(8), int64(9)\n",
      "memory usage: 2.3 MB\n"
     ]
    }
   ],
   "source": [
    "kc_data.info()"
   ]
  },
  {
   "cell_type": "markdown",
   "metadata": {},
   "source": [
    "### Transform Data"
   ]
  },
  {
   "cell_type": "code",
   "execution_count": 7,
   "metadata": {},
   "outputs": [],
   "source": [
    "cols = list(kc_data.columns.values)\n",
    "\n",
    "for col in cols:\n",
    "    kc_data[col] = (kc_data[col] - np.min(kc_data[col]))/(np.max(kc_data[col]) - np.min(kc_data[col]))"
   ]
  },
  {
   "cell_type": "code",
   "execution_count": 8,
   "metadata": {},
   "outputs": [],
   "source": [
    "kc_data['price'] = kc_data['price'].map(lambda x: np.log(x+1))\n",
    "kc_data['sqft_above'] = kc_data['sqft_above'].map(lambda x: np.log(x+1))\n",
    "kc_data['sqft_basement'] = kc_data['sqft_basement'].map(lambda x: np.log(x+1))\n",
    "kc_data['sqft_living'] = kc_data['sqft_living'].map(lambda x: np.log(x+1))\n",
    "kc_data['sqft_living15'] = kc_data['sqft_living15'].map(lambda x: np.log(x+1))\n",
    "kc_data['sqft_lot'] = kc_data['sqft_lot'].map(lambda x: np.log(x+1))\n",
    "kc_data['sqft_lot15'] = kc_data['sqft_lot15'].map(lambda x: np.log(x+1))\n",
    "kc_data['yr_built'] = kc_data['yr_built'].map(lambda x: np.log(x+1))"
   ]
  },
  {
   "cell_type": "markdown",
   "metadata": {},
   "source": []
  },
  {
   "cell_type": "code",
   "execution_count": 9,
   "metadata": {},
   "outputs": [],
   "source": [
    "predictors = kc_data.drop(['price', 'sqft_above', 'sqft_lot15'], axis=1)\n",
    "kc_data.drop(['sqft_above', 'sqft_lot15'], axis=1, inplace=True)"
   ]
  },
  {
   "cell_type": "markdown",
   "metadata": {},
   "source": [
    "### Building the Model"
   ]
  },
  {
   "cell_type": "code",
   "execution_count": 10,
   "metadata": {},
   "outputs": [],
   "source": [
    "## The dataset is split into the dependent variable (y), and the independent variables (X)\n",
    "\n",
    "X = predictors\n",
    "y = kc_data['price']\n",
    "\n",
    "## Split the data into a training set (80%) and a test set (20%)\n",
    "from sklearn.model_selection import train_test_split\n",
    "\n",
    "X_train, X_test, y_train, y_test = train_test_split(X, y, test_size=0.2)"
   ]
  },
  {
   "cell_type": "code",
   "execution_count": 11,
   "metadata": {},
   "outputs": [
    {
     "name": "stderr",
     "output_type": "stream",
     "text": [
      "/Users/isobeldaley/anaconda3/lib/python3.7/site-packages/numpy/core/fromnumeric.py:2389: FutureWarning: Method .ptp is deprecated and will be removed in a future version. Use numpy.ptp instead.\n",
      "  return ptp(axis=axis, out=out, **kwargs)\n"
     ]
    },
    {
     "data": {
      "text/html": [
       "<table class=\"simpletable\">\n",
       "<caption>OLS Regression Results</caption>\n",
       "<tr>\n",
       "  <th>Dep. Variable:</th>          <td>price</td>      <th>  R-squared:         </th>  <td>   0.707</td> \n",
       "</tr>\n",
       "<tr>\n",
       "  <th>Model:</th>                   <td>OLS</td>       <th>  Adj. R-squared:    </th>  <td>   0.707</td> \n",
       "</tr>\n",
       "<tr>\n",
       "  <th>Method:</th>             <td>Least Squares</td>  <th>  F-statistic:       </th>  <td>   2261.</td> \n",
       "</tr>\n",
       "<tr>\n",
       "  <th>Date:</th>             <td>Sat, 03 Aug 2019</td> <th>  Prob (F-statistic):</th>   <td>  0.00</td>  \n",
       "</tr>\n",
       "<tr>\n",
       "  <th>Time:</th>                 <td>15:21:04</td>     <th>  Log-Likelihood:    </th>  <td>  15583.</td> \n",
       "</tr>\n",
       "<tr>\n",
       "  <th>No. Observations:</th>      <td> 13126</td>      <th>  AIC:               </th> <td>-3.114e+04</td>\n",
       "</tr>\n",
       "<tr>\n",
       "  <th>Df Residuals:</th>          <td> 13111</td>      <th>  BIC:               </th> <td>-3.102e+04</td>\n",
       "</tr>\n",
       "<tr>\n",
       "  <th>Df Model:</th>              <td>    14</td>      <th>                     </th>      <td> </td>    \n",
       "</tr>\n",
       "<tr>\n",
       "  <th>Covariance Type:</th>      <td>nonrobust</td>    <th>                     </th>      <td> </td>    \n",
       "</tr>\n",
       "</table>\n",
       "<table class=\"simpletable\">\n",
       "<tr>\n",
       "        <td></td>           <th>coef</th>     <th>std err</th>      <th>t</th>      <th>P>|t|</th>  <th>[0.025</th>    <th>0.975]</th>  \n",
       "</tr>\n",
       "<tr>\n",
       "  <th>const</th>         <td>   -0.0766</td> <td>    0.004</td> <td>  -17.825</td> <td> 0.000</td> <td>   -0.085</td> <td>   -0.068</td>\n",
       "</tr>\n",
       "<tr>\n",
       "  <th>bedrooms</th>      <td>   -0.0150</td> <td>    0.003</td> <td>   -4.582</td> <td> 0.000</td> <td>   -0.021</td> <td>   -0.009</td>\n",
       "</tr>\n",
       "<tr>\n",
       "  <th>bathrooms</th>     <td>    0.0384</td> <td>    0.005</td> <td>    8.313</td> <td> 0.000</td> <td>    0.029</td> <td>    0.047</td>\n",
       "</tr>\n",
       "<tr>\n",
       "  <th>sqft_living</th>   <td>    0.2947</td> <td>    0.011</td> <td>   27.302</td> <td> 0.000</td> <td>    0.274</td> <td>    0.316</td>\n",
       "</tr>\n",
       "<tr>\n",
       "  <th>sqft_lot</th>      <td>   -0.1164</td> <td>    0.006</td> <td>  -18.503</td> <td> 0.000</td> <td>   -0.129</td> <td>   -0.104</td>\n",
       "</tr>\n",
       "<tr>\n",
       "  <th>floors</th>        <td>    0.0121</td> <td>    0.005</td> <td>    2.469</td> <td> 0.014</td> <td>    0.002</td> <td>    0.022</td>\n",
       "</tr>\n",
       "<tr>\n",
       "  <th>waterfront</th>    <td>    0.1588</td> <td>    0.023</td> <td>    6.952</td> <td> 0.000</td> <td>    0.114</td> <td>    0.204</td>\n",
       "</tr>\n",
       "<tr>\n",
       "  <th>view</th>          <td>    0.0803</td> <td>    0.005</td> <td>   15.557</td> <td> 0.000</td> <td>    0.070</td> <td>    0.090</td>\n",
       "</tr>\n",
       "<tr>\n",
       "  <th>condition</th>     <td>    0.0565</td> <td>    0.003</td> <td>   17.048</td> <td> 0.000</td> <td>    0.050</td> <td>    0.063</td>\n",
       "</tr>\n",
       "<tr>\n",
       "  <th>grade</th>         <td>    0.3758</td> <td>    0.008</td> <td>   48.600</td> <td> 0.000</td> <td>    0.361</td> <td>    0.391</td>\n",
       "</tr>\n",
       "<tr>\n",
       "  <th>sqft_basement</th> <td>   -0.0074</td> <td>    0.004</td> <td>   -1.750</td> <td> 0.080</td> <td>   -0.016</td> <td>    0.001</td>\n",
       "</tr>\n",
       "<tr>\n",
       "  <th>yr_built</th>      <td>   -0.2298</td> <td>    0.006</td> <td>  -41.598</td> <td> 0.000</td> <td>   -0.241</td> <td>   -0.219</td>\n",
       "</tr>\n",
       "<tr>\n",
       "  <th>lat</th>           <td>    0.2363</td> <td>    0.003</td> <td>   81.472</td> <td> 0.000</td> <td>    0.231</td> <td>    0.242</td>\n",
       "</tr>\n",
       "<tr>\n",
       "  <th>long</th>          <td>    0.0215</td> <td>    0.004</td> <td>    5.353</td> <td> 0.000</td> <td>    0.014</td> <td>    0.029</td>\n",
       "</tr>\n",
       "<tr>\n",
       "  <th>sqft_living15</th> <td>    0.2042</td> <td>    0.011</td> <td>   18.322</td> <td> 0.000</td> <td>    0.182</td> <td>    0.226</td>\n",
       "</tr>\n",
       "</table>\n",
       "<table class=\"simpletable\">\n",
       "<tr>\n",
       "  <th>Omnibus:</th>       <td>572.855</td> <th>  Durbin-Watson:     </th> <td>   1.975</td> \n",
       "</tr>\n",
       "<tr>\n",
       "  <th>Prob(Omnibus):</th> <td> 0.000</td>  <th>  Jarque-Bera (JB):  </th> <td> 848.887</td> \n",
       "</tr>\n",
       "<tr>\n",
       "  <th>Skew:</th>          <td> 0.409</td>  <th>  Prob(JB):          </th> <td>4.64e-185</td>\n",
       "</tr>\n",
       "<tr>\n",
       "  <th>Kurtosis:</th>      <td> 3.940</td>  <th>  Cond. No.          </th> <td>    61.3</td> \n",
       "</tr>\n",
       "</table><br/><br/>Warnings:<br/>[1] Standard Errors assume that the covariance matrix of the errors is correctly specified."
      ],
      "text/plain": [
       "<class 'statsmodels.iolib.summary.Summary'>\n",
       "\"\"\"\n",
       "                            OLS Regression Results                            \n",
       "==============================================================================\n",
       "Dep. Variable:                  price   R-squared:                       0.707\n",
       "Model:                            OLS   Adj. R-squared:                  0.707\n",
       "Method:                 Least Squares   F-statistic:                     2261.\n",
       "Date:                Sat, 03 Aug 2019   Prob (F-statistic):               0.00\n",
       "Time:                        15:21:04   Log-Likelihood:                 15583.\n",
       "No. Observations:               13126   AIC:                        -3.114e+04\n",
       "Df Residuals:                   13111   BIC:                        -3.102e+04\n",
       "Df Model:                          14                                         \n",
       "Covariance Type:            nonrobust                                         \n",
       "=================================================================================\n",
       "                    coef    std err          t      P>|t|      [0.025      0.975]\n",
       "---------------------------------------------------------------------------------\n",
       "const            -0.0766      0.004    -17.825      0.000      -0.085      -0.068\n",
       "bedrooms         -0.0150      0.003     -4.582      0.000      -0.021      -0.009\n",
       "bathrooms         0.0384      0.005      8.313      0.000       0.029       0.047\n",
       "sqft_living       0.2947      0.011     27.302      0.000       0.274       0.316\n",
       "sqft_lot         -0.1164      0.006    -18.503      0.000      -0.129      -0.104\n",
       "floors            0.0121      0.005      2.469      0.014       0.002       0.022\n",
       "waterfront        0.1588      0.023      6.952      0.000       0.114       0.204\n",
       "view              0.0803      0.005     15.557      0.000       0.070       0.090\n",
       "condition         0.0565      0.003     17.048      0.000       0.050       0.063\n",
       "grade             0.3758      0.008     48.600      0.000       0.361       0.391\n",
       "sqft_basement    -0.0074      0.004     -1.750      0.080      -0.016       0.001\n",
       "yr_built         -0.2298      0.006    -41.598      0.000      -0.241      -0.219\n",
       "lat               0.2363      0.003     81.472      0.000       0.231       0.242\n",
       "long              0.0215      0.004      5.353      0.000       0.014       0.029\n",
       "sqft_living15     0.2042      0.011     18.322      0.000       0.182       0.226\n",
       "==============================================================================\n",
       "Omnibus:                      572.855   Durbin-Watson:                   1.975\n",
       "Prob(Omnibus):                  0.000   Jarque-Bera (JB):              848.887\n",
       "Skew:                           0.409   Prob(JB):                    4.64e-185\n",
       "Kurtosis:                       3.940   Cond. No.                         61.3\n",
       "==============================================================================\n",
       "\n",
       "Warnings:\n",
       "[1] Standard Errors assume that the covariance matrix of the errors is correctly specified.\n",
       "\"\"\""
      ]
     },
     "execution_count": 11,
     "metadata": {},
     "output_type": "execute_result"
    }
   ],
   "source": [
    "import statsmodels.api as sm\n",
    "\n",
    "X_train = sm.add_constant(X_train)\n",
    "\n",
    "model = sm.OLS(y_train, X_train).fit()\n",
    "\n",
    "model.summary()"
   ]
  },
  {
   "cell_type": "markdown",
   "metadata": {},
   "source": [
    "### Evaluating the Model"
   ]
  },
  {
   "cell_type": "code",
   "execution_count": 12,
   "metadata": {},
   "outputs": [
    {
     "data": {
      "text/html": [
       "<div>\n",
       "<style scoped>\n",
       "    .dataframe tbody tr th:only-of-type {\n",
       "        vertical-align: middle;\n",
       "    }\n",
       "\n",
       "    .dataframe tbody tr th {\n",
       "        vertical-align: top;\n",
       "    }\n",
       "\n",
       "    .dataframe thead th {\n",
       "        text-align: right;\n",
       "    }\n",
       "</style>\n",
       "<table border=\"1\" class=\"dataframe\">\n",
       "  <thead>\n",
       "    <tr style=\"text-align: right;\">\n",
       "      <th></th>\n",
       "      <th>Label</th>\n",
       "      <th>Coefficients</th>\n",
       "    </tr>\n",
       "  </thead>\n",
       "  <tbody>\n",
       "    <tr>\n",
       "      <th>0</th>\n",
       "      <td>bedrooms</td>\n",
       "      <td>-0.014988</td>\n",
       "    </tr>\n",
       "    <tr>\n",
       "      <th>1</th>\n",
       "      <td>bathrooms</td>\n",
       "      <td>0.038431</td>\n",
       "    </tr>\n",
       "    <tr>\n",
       "      <th>2</th>\n",
       "      <td>sqft_living</td>\n",
       "      <td>0.294687</td>\n",
       "    </tr>\n",
       "    <tr>\n",
       "      <th>3</th>\n",
       "      <td>sqft_lot</td>\n",
       "      <td>-0.116408</td>\n",
       "    </tr>\n",
       "    <tr>\n",
       "      <th>4</th>\n",
       "      <td>floors</td>\n",
       "      <td>0.012065</td>\n",
       "    </tr>\n",
       "    <tr>\n",
       "      <th>5</th>\n",
       "      <td>waterfront</td>\n",
       "      <td>0.158757</td>\n",
       "    </tr>\n",
       "    <tr>\n",
       "      <th>6</th>\n",
       "      <td>view</td>\n",
       "      <td>0.080324</td>\n",
       "    </tr>\n",
       "    <tr>\n",
       "      <th>7</th>\n",
       "      <td>condition</td>\n",
       "      <td>0.056546</td>\n",
       "    </tr>\n",
       "    <tr>\n",
       "      <th>8</th>\n",
       "      <td>grade</td>\n",
       "      <td>0.375786</td>\n",
       "    </tr>\n",
       "    <tr>\n",
       "      <th>9</th>\n",
       "      <td>sqft_basement</td>\n",
       "      <td>-0.007387</td>\n",
       "    </tr>\n",
       "    <tr>\n",
       "      <th>10</th>\n",
       "      <td>yr_built</td>\n",
       "      <td>-0.229818</td>\n",
       "    </tr>\n",
       "    <tr>\n",
       "      <th>11</th>\n",
       "      <td>lat</td>\n",
       "      <td>0.236308</td>\n",
       "    </tr>\n",
       "    <tr>\n",
       "      <th>12</th>\n",
       "      <td>long</td>\n",
       "      <td>0.021473</td>\n",
       "    </tr>\n",
       "    <tr>\n",
       "      <th>13</th>\n",
       "      <td>sqft_living15</td>\n",
       "      <td>0.204210</td>\n",
       "    </tr>\n",
       "  </tbody>\n",
       "</table>\n",
       "</div>"
      ],
      "text/plain": [
       "            Label  Coefficients\n",
       "0        bedrooms     -0.014988\n",
       "1       bathrooms      0.038431\n",
       "2     sqft_living      0.294687\n",
       "3        sqft_lot     -0.116408\n",
       "4          floors      0.012065\n",
       "5      waterfront      0.158757\n",
       "6            view      0.080324\n",
       "7       condition      0.056546\n",
       "8           grade      0.375786\n",
       "9   sqft_basement     -0.007387\n",
       "10       yr_built     -0.229818\n",
       "11            lat      0.236308\n",
       "12           long      0.021473\n",
       "13  sqft_living15      0.204210"
      ]
     },
     "execution_count": 12,
     "metadata": {},
     "output_type": "execute_result"
    }
   ],
   "source": [
    "from sklearn.feature_selection import RFE\n",
    "from sklearn.linear_model import LinearRegression\n",
    "from sklearn import metrics\n",
    "\n",
    "X_train_no_const = X_train.drop('const', axis=1)\n",
    "\n",
    "regressor = LinearRegression()\n",
    "regressor.fit(X_train_no_const, y_train)\n",
    "\n",
    "## Create an dataframe, listing the coefficient for each predictor.  This will be used to confirm that the model is \n",
    "## identifcal, regardless of whether it is in SKLearn or Statsmodels.\n",
    "\n",
    "coefficients = {'Label': X_train_no_const.columns, 'Coefficients':regressor.coef_ }\n",
    "coeff_df = pd.DataFrame(coefficients)\n",
    "coeff_df"
   ]
  },
  {
   "cell_type": "code",
   "execution_count": 13,
   "metadata": {},
   "outputs": [],
   "source": [
    "y_pred_test = regressor.predict(X_test)\n",
    "\n",
    "y_pred_train = regressor.predict(X_train_no_const)"
   ]
  },
  {
   "cell_type": "code",
   "execution_count": 14,
   "metadata": {},
   "outputs": [
    {
     "name": "stdout",
     "output_type": "stream",
     "text": [
      "Root Mean Squared Error (TRAIN): 0.07381834040531864\n",
      "Root Mean Squared Error (TEST): 0.07487455450077328\n"
     ]
    }
   ],
   "source": [
    "print('Root Mean Squared Error (TRAIN):', np.sqrt(metrics.mean_squared_error(y_pred_train, y_train)))\n",
    "print('Root Mean Squared Error (TEST):', np.sqrt(metrics.mean_squared_error(y_pred_test, y_test)))"
   ]
  },
  {
   "cell_type": "code",
   "execution_count": 15,
   "metadata": {},
   "outputs": [
    {
     "data": {
      "text/plain": [
       "-0.001056214095454644"
      ]
     },
     "execution_count": 15,
     "metadata": {},
     "output_type": "execute_result"
    }
   ],
   "source": [
    "Difference =  np.sqrt(metrics.mean_squared_error(y_pred_train, y_train)) - np.sqrt(metrics.mean_squared_error(y_pred_test, y_test))\n",
    "Difference"
   ]
  },
  {
   "cell_type": "code",
   "execution_count": null,
   "metadata": {},
   "outputs": [],
   "source": [
    "-0.0005596216900973436"
   ]
  },
  {
   "cell_type": "code",
   "execution_count": 18,
   "metadata": {},
   "outputs": [
    {
     "data": {
      "text/plain": [
       "75.28571428571429"
      ]
     },
     "execution_count": 18,
     "metadata": {},
     "output_type": "execute_result"
    }
   ],
   "source": [
    "data = np.array([5, 4, 6, 3, 7, 2, 6, 2, 5, 7, 3, 999, 2, 3])\n",
    "np.mean(data)\n"
   ]
  },
  {
   "cell_type": "code",
   "execution_count": 19,
   "metadata": {},
   "outputs": [
    {
     "data": {
      "text/plain": [
       "4.230769230769231"
      ]
     },
     "execution_count": 19,
     "metadata": {},
     "output_type": "execute_result"
    }
   ],
   "source": [
    "data_no_outlier = np.array([5, 4, 6, 3, 7, 2, 6, 2, 5, 7, 3, 2, 3])\n",
    "np.mean(data_no_outlier)"
   ]
  },
  {
   "cell_type": "code",
   "execution_count": 20,
   "metadata": {},
   "outputs": [],
   "source": [
    "l = [5, 4, 6, 3, 7, 2, 6, 2, 5, 7, 3, 2, 3]"
   ]
  },
  {
   "cell_type": "code",
   "execution_count": 23,
   "metadata": {},
   "outputs": [
    {
     "data": {
      "text/plain": [
       "55"
      ]
     },
     "execution_count": 23,
     "metadata": {},
     "output_type": "execute_result"
    }
   ],
   "source": [
    "sum(l)"
   ]
  },
  {
   "cell_type": "code",
   "execution_count": null,
   "metadata": {},
   "outputs": [],
   "source": []
  }
 ],
 "metadata": {
  "kernelspec": {
   "display_name": "Python 3",
   "language": "python",
   "name": "python3"
  },
  "language_info": {
   "codemirror_mode": {
    "name": "ipython",
    "version": 3
   },
   "file_extension": ".py",
   "mimetype": "text/x-python",
   "name": "python",
   "nbconvert_exporter": "python",
   "pygments_lexer": "ipython3",
   "version": "3.7.3"
  }
 },
 "nbformat": 4,
 "nbformat_minor": 2
}
